{
 "cells": [
  {
   "cell_type": "markdown",
   "metadata": {},
   "source": [
    "# Logistic Regression\n",
    "AU 19 CSE 5539-0010 \"Social Media and Text Analysis\" Homework #2  \n",
    "Wei Xu, The Ohio State University   \n",
    "\n",
    "In this assignment, we will walk you through the process of :\n",
    "\n",
    "- implementing logistic regression from scratch \n",
    "- and applying it to a real-world problem that predicts whether a student will be admitted to a university. \n"
   ]
  },
  {
   "cell_type": "markdown",
   "metadata": {},
   "source": [
    "<div class=\"alert alert-danger\">\n",
    "IMPORTANG: In this assignment, except Numpy and Matplotlib, no other external Python packages are allowed. Scipy is used in gradient checking, though, it is not allowed elsewhere. \n",
    "</div>"
   ]
  },
  {
   "cell_type": "markdown",
   "metadata": {},
   "source": [
    "**Honor Code:** I hereby agree to abide the Ohio State University's Code of Student Conduct, promise that the submitted assignment is my own work, and understand that my code is subject to plagiarism test.\n",
    "\n",
    "**Signature**: *(double click on this block and type your name here)*"
   ]
  },
  {
   "cell_type": "markdown",
   "metadata": {},
   "source": [
    "## 0. Importing Numpy and Matplotlib [Code provided - do not change]"
   ]
  },
  {
   "cell_type": "code",
   "execution_count": 1,
   "metadata": {},
   "outputs": [
    {
     "name": "stdout",
     "output_type": "stream",
     "text": [
      "3.7.1 (default, Dec 10 2018, 22:54:23) [MSC v.1915 64 bit (AMD64)]\n"
     ]
    }
   ],
   "source": [
    "import sys\n",
    "\n",
    "# Check what version of Python is running\n",
    "print (sys.version)"
   ]
  },
  {
   "cell_type": "markdown",
   "metadata": {},
   "source": [
    "You will need to have Numpy installed for the right version of Python. Most likely, you are using Python 3.6 in this Jupyter Notebook; then you may [install Numpy accordingly](https://stackoverflow.com/questions/37933978/install-numpy-in-python-3-4-4-and-linux). For example, installng Numpy via pip by using the command line \"sudo python3.6 -m pip install numpy\". If failed, you may need to update pip first by \"python3.6 -m pip install --upgrade pip\"."
   ]
  },
  {
   "cell_type": "code",
   "execution_count": 2,
   "metadata": {},
   "outputs": [],
   "source": [
    "# Run some setup code for this notebook. Don't modify anything in this cell.\n",
    "\n",
    "import random\n",
    "import numpy as np\n",
    "import matplotlib.pyplot as plt\n",
    "\n",
    "# This is a bit of magic to make matplotlib figures appear inline in the notebook\n",
    "# rather than in a new window.\n",
    "%matplotlib inline\n",
    "plt.rcParams['figure.figsize'] = (10.0, 8.0) # set default size of plots\n",
    "plt.rcParams['image.interpolation'] = 'nearest'\n",
    "plt.rcParams['image.cmap'] = 'gray'\n",
    "\n",
    "# reload external python modules;\n",
    "# http://stackoverflow.com/questions/1907993/autoreload-of-modules-in-ipython\n",
    "%load_ext autoreload\n",
    "%autoreload 2"
   ]
  },
  {
   "cell_type": "markdown",
   "metadata": {},
   "source": [
    "## 1. Visualizing the Data  [Code provided - no need to change]\n",
    "\n",
    "The provided dataset contains applicants' scores on two exams and the admission decisons. \n",
    "\n",
    "[Matplotlib](http://matplotlib.org/users/pyplot_tutorial.html) is a Python package for data visualization. Suppose you are using Python 3.6, you can install by first use command line \"brew install freetype\", then \"sudo python3.6 -m pip install matplotlib\". \n"
   ]
  },
  {
   "cell_type": "code",
   "execution_count": 3,
   "metadata": {},
   "outputs": [
    {
     "name": "stdout",
     "output_type": "stream",
     "text": [
      "# of training examples =  100\n",
      "# of features =  2\n"
     ]
    },
    {
     "data": {
      "image/png": "[encoded data removed]",
      "text/plain": [
       "<Figure size 432x288 with 1 Axes>"
      ]
     },
     "metadata": {
      "needs_background": "light"
     },
     "output_type": "display_data"
    }
   ],
   "source": [
    "#load the dataset\n",
    "data = np.loadtxt('hw2_data.txt', delimiter=',')\n",
    "\n",
    "train_X = data[:, 0:2]\n",
    "train_y = data[:, 2]\n",
    "\n",
    "# Get the number of training examples and the number of features\n",
    "m_samples, n_features = train_X.shape\n",
    "print (\"# of training examples = \", m_samples)\n",
    "print (\"# of features = \", n_features)\n",
    "\n",
    "pos = np.where(train_y == 1)\n",
    "neg = np.where(train_y == 0)\n",
    "plt.scatter(train_X[pos, 0], train_X[pos, 1], marker='o', c='b')\n",
    "plt.scatter(train_X[neg, 0], train_X[neg, 1], marker='x', c='r')\n",
    "plt.xlabel('Exam 1 score')\n",
    "plt.ylabel('Exam 2 score')\n",
    "plt.legend(['Not Admitted', 'Admitted'])\n",
    "plt.show()"
   ]
  },
  {
   "cell_type": "markdown",
   "metadata": {},
   "source": [
    "## 2. Cost Function [5 points]\n",
    "You're going to first implement the sigmoid function, then the cost function for (binary) logistic regression. \n",
    "\n",
    "The sigmoid function is defined as $sigmoid(\\mathbf{z}) = \\frac{1}{1+{e^{-\\mathbf{z}}}}$.\n",
    "\n",
    "Note that, you are asked to use the _numpy_ package for vector and matrix operations in order to ensure the __efficiency of the code__. "
   ]
  },
  {
   "cell_type": "code",
   "execution_count": 7,
   "metadata": {},
   "outputs": [
    {
     "name": "stdout",
     "output_type": "stream",
     "text": [
      "=== For autograder ===\n",
      "[[0.73105858 0.88079708]\n",
      " [0.26894142 0.11920292]]\n"
     ]
    }
   ],
   "source": [
    "def sigmoid(z):\n",
    "    \"\"\" Sigmoid function \"\"\"\n",
    "    ###################################################################\n",
    "    # Compute the sigmoid function for the input here.                #\n",
    "    ###################################################################\n",
    "    \n",
    "    ### YOUR CODE HERE: be careful of the potential underflow or overflow here\n",
    "    \n",
    "    \n",
    "\n",
    "    s = 1/(1+np.exp(-z))\n",
    "    \n",
    "    \n",
    "    \n",
    "    ### END YOUR CODE\n",
    "    \n",
    "    return s\n",
    "\n",
    "# Check your sigmoid implementation\n",
    "z = np.array([[1, 2], [-1, -2]])\n",
    "f = sigmoid(z)\n",
    "print (\"=== For autograder ===\")\n",
    "print (f)"
   ]
  },
  {
   "cell_type": "code",
   "execution_count": 40,
   "metadata": {},
   "outputs": [
    {
     "name": "stdout",
     "output_type": "stream",
     "text": [
      "=== For autograder ===\n",
      "10.000045398899701\n",
      "4.539889921682063e-05\n"
     ]
    }
   ],
   "source": [
    "def cost_function(theta, X, y):\n",
    "    \"\"\" The cost function for logistic regression \"\"\"\n",
    "    #####################################################################################\n",
    "    # Compute the cost given the current parameter theta on the training data set (X, y)#\n",
    "    #####################################################################################\n",
    "     \n",
    "    ### YOUR CODE HERE\n",
    "    \n",
    "    yhat = sigmoid(np.dot(X,theta))\n",
    "    log_yhat = np.log(yhat)\n",
    "    log_one_minus_yhat = np.log(1-yhat)\n",
    "    cost = -1.0/float(X.shape[0]) * (np.sum(y * log_yhat) + np.sum((1-y) * log_one_minus_yhat))\n",
    "\n",
    "    \n",
    "    \n",
    "    \n",
    "    \n",
    "    \n",
    "    ### END YOUR CODE\n",
    "    \n",
    "    return cost\n",
    "\n",
    "# Check your cost function implementation\n",
    "\n",
    "t_X = np.array([[1, 2], [-1, -2]])\n",
    "t_y = np.array([0, 1])\n",
    "t_theta1 = np.array([-10, 10])\n",
    "t_theta2 = np.array([10, -10])\n",
    "t_c1 = cost_function(t_theta1, t_X, t_y)\n",
    "t_c2 = cost_function(t_theta2, t_X, t_y)\n",
    "print (\"=== For autograder ===\")\n",
    "print (t_c1)\n",
    "print (t_c2)"
   ]
  },
  {
   "cell_type": "markdown",
   "metadata": {},
   "source": [
    "## 3. Gradient Computation [5 points]\n",
    "\n",
    "Implement the gradient computations for logistic regression. "
   ]
  },
  {
   "cell_type": "code",
   "execution_count": 41,
   "metadata": {
    "scrolled": true
   },
   "outputs": [
    {
     "name": "stdout",
     "output_type": "stream",
     "text": [
      "=== For autograder ===\n",
      "[0.9999546 1.9999092]\n",
      "[4.53978687e-05 9.07957374e-05]\n"
     ]
    }
   ],
   "source": [
    "def gradient_update(theta, X, y):\n",
    "    \"\"\" The gradient update for logistic regression\"\"\"\n",
    "    ###############################\n",
    "    # Compute the gradient update #\n",
    "    ###############################\n",
    "    \n",
    "    ### YOUR CODE HERE\n",
    "    m_samples = X.shape[0]\n",
    "    \n",
    "    yhat = sigmoid(np.dot(X,theta))\n",
    "    \n",
    "    grad = np.sum((yhat - y).reshape(m_samples,1) * X,0)\n",
    "    \n",
    "    \n",
    "    \n",
    "    \n",
    "\n",
    "    ### END YOUR CODE\n",
    "    \n",
    "    grad = grad / m_samples  \n",
    "    \n",
    "    return grad\n",
    "\n",
    "# Check your gradient computation implementation\n",
    "t_X = np.array([[1, 2], [-1, -2]])\n",
    "t_y = np.array([0, 1])\n",
    "t_theta1 = np.array([-10, 10])\n",
    "t_theta2 = np.array([10, -10])\n",
    "t_g1 = gradient_update(t_theta1, t_X, t_y)\n",
    "t_g2 = gradient_update(t_theta2, t_X, t_y)\n",
    "print (\"=== For autograder ===\")\n",
    "print (t_g1)\n",
    "print (t_g2)"
   ]
  },
  {
   "cell_type": "markdown",
   "metadata": {},
   "source": [
    "## 4. Gradient Checking [Code provided. Bonus 5 points if implemented from scratch]\n",
    "You can use the code provided below to check the gradient of your logistic regression functions. Alternatively, you can implementing the gradient checking from scratch by yourself (bonus 10 points). \n",
    "\n",
    "[Gradient checking](http://ufldl.stanford.edu/tutorial/supervised/DebuggingGradientChecking/) is an important technique for debugging the gradient computation. Logistic regression is a relatively simple algorithm where it is straightforward to derive and implement its cost function and gradient computation. For more complex models, the gradient computaitn can be notoriously difficulty to debug and get right. Sometimes a subtly buggy implementation will manage to learn something that can look surprisingly reasonable, while performing less well than a correct implementation. Thus, even with a buggy implementation, it may not at all be apparent that anything is amiss. "
   ]
  },
  {
   "cell_type": "code",
   "execution_count": 29,
   "metadata": {},
   "outputs": [
    {
     "name": "stdout",
     "output_type": "stream",
     "text": [
      "=== For autograder ===\n",
      "Output of check_grad: 5.7569277940289935e-08\n"
     ]
    }
   ],
   "source": [
    "# Check your gradient computation implementation\n",
    "t_samples, t_features = 100, 10\n",
    "t_X = np.random.randn(t_samples, t_features)\n",
    "t_y = np.random.randint(2, size=t_samples) \n",
    "t_theta = np.random.randn(t_features)\n",
    "\n",
    "from scipy import optimize\n",
    "print (\"=== For autograder ===\")\n",
    "print('Output of check_grad: %s' % optimize.check_grad(cost_function, gradient_update, t_theta, t_X, t_y))"
   ]
  },
  {
   "cell_type": "markdown",
   "metadata": {},
   "source": [
    "## 5. Gradient Descent  and Decision Boundary  [10 points]\n",
    "\n",
    "Implement the batch gradient decent algorithm for logistic regression. For every 'print_iterations' number of iterations, also visualize the decision boundary and obeserve how it changes during the training.\n",
    "\n",
    "Note that, you will need to carefully choose the learning rate and the total number of iterations, especially given that the starter code does not include feature scaling (e.g., scale each feature by its maximum absolute value to convert feature value to [-1,1] range -- in order to make this homework simple and easier for you to write code to visualize. "
   ]
  },
  {
   "cell_type": "code",
   "execution_count": 69,
   "metadata": {
    "scrolled": false
   },
   "outputs": [
    {
     "name": "stdout",
     "output_type": "stream",
     "text": [
      "[ Iteration 1 ] cost = 0.6993243944225145\n",
      "[ Iteration 100 ] cost = 0.3049750719801712\n",
      "[ Iteration 200 ] cost = 0.2575663618699056\n",
      "[ Iteration 300 ] cost = 0.23841032846623875\n",
      "[ Iteration 400 ] cost = 0.22806894951975246\n",
      "[ Iteration 500 ] cost = 0.22166947976573276\n",
      "[ Iteration 600 ] cost = 0.21738019122799285\n",
      "[ Iteration 700 ] cost = 0.21435035205102246\n",
      "[ Iteration 800 ] cost = 0.21212915998182688\n",
      "[ Iteration 900 ] cost = 0.21045510758202654\n",
      "[ Iteration 1000 ] cost = 0.20916613547289295\n"
     ]
    },
    {
     "data": {
      "image/png": "[encoded data removed]",
      "text/plain": [
       "<Figure size 360x288 with 1 Axes>"
      ]
     },
     "metadata": {
      "needs_background": "light"
     },
     "output_type": "display_data"
    }
   ],
   "source": [
    "def gradient_descent(theta, X, y, alpha, max_iterations, print_iterations):\n",
    "    \"\"\" Batch gradient descent algorithm \"\"\"\n",
    "    #################################################################\n",
    "    # Update the parameter 'theta' iteratively to minimize the cost #\n",
    "    # Also visualize the decision boundary during learning          #\n",
    "    #################################################################\n",
    " \n",
    "    alpha *= m_samples\n",
    "    iteration = 0\n",
    "    \n",
    "    ### YOUR CODE HERE: \n",
    "    \n",
    "    ones = np.ones((m_samples, 1), dtype=np.float)\n",
    "    X = np.concatenate((X, ones), axis = 1)\n",
    "    X_norm = X /np.max(X, axis = 0)\n",
    "      \n",
    "    ### END YOUR CODE\n",
    "    \n",
    "    \n",
    "    \n",
    "    while(iteration < max_iterations):\n",
    "        iteration += 1\n",
    "        \n",
    "        ### YOUR CODE HERE: simultaneous update of partial gradients\n",
    "        gradient = gradient_update(theta, X_norm, y)\n",
    "        theta -= alpha * gradient\n",
    "        ### END YOUR CODE\n",
    "\n",
    "        \n",
    "        # For every 25 iterations\n",
    "        if iteration % print_iterations == 0 or iteration == 1:\n",
    "            cost = 0\n",
    "            \n",
    "            ### YOUR CODE HERE: calculate the cost\n",
    "            ### IMPORTANT: The cost function is guaranteed to decrease after \n",
    "            ## every iteration of the gradient descent algorithm.\n",
    "            cost = cost_function(theta, X_norm, y)\n",
    "\n",
    "            ### END YOUR CODE\n",
    "            \n",
    "            \n",
    "            print (\"[ Iteration\", iteration, \"]\", \"cost =\", cost)\n",
    "            plt.rcParams['figure.figsize'] = (5, 4)\n",
    "            plt.xlim([20,110])\n",
    "            plt.ylim([20,110])\n",
    "            \n",
    "            pos = np.where(y == 1)\n",
    "            neg = np.where(y == 0)\n",
    "            \n",
    "            plt.scatter(X[pos, 0], X[pos, 1], marker='o', c='b')\n",
    "            plt.scatter(X[neg, 0], X[neg, 1], marker='x', c='r')\n",
    "            plt.xlabel('Exam 1 score')\n",
    "            plt.ylabel('Exam 2 score')\n",
    "            plt.legend(['Not Admitted', 'Admitted'])\n",
    "            t = np.arange(10, 100, 0.1)\n",
    "            \n",
    "            \n",
    "            ### YOUR CODE HERE: plot the decision boundary\n",
    "            \n",
    "            y_t = -(theta[0] * t + theta[2]) / theta[1]\n",
    "            plt.plot(t, y_t, color='red', label='decision boundary');\n",
    "            \n",
    "            ### END YOUR CODE \n",
    "            #plt.show()\n",
    "               \n",
    "    return theta\n",
    "\n",
    "\n",
    "### YOUR CODE HERE: initialize the parameters 'theta' to random values; \n",
    "### And set up learning rate, number of max iterations, number of iterations for printing intermedia outputs\n",
    "initial_theta = np.zeros(train_X.shape[1]+1, dtype=np.float)\n",
    "alpha_test = 0.05\n",
    "max_iter = 1000\n",
    "print_iter = 100\n",
    "    \n",
    "    \n",
    "\n",
    "    \n",
    "    \n",
    "### END YOUR CODE\n",
    "\n",
    "\n",
    "learned_theta = gradient_descent(initial_theta, train_X, train_y, alpha_test, max_iter, print_iter)"
   ]
  },
  {
   "cell_type": "markdown",
   "metadata": {},
   "source": [
    "### 6. Predicting [5 points]\n",
    "Now that you learned the parameters of the model, you can use the model to prdict whether a particular student will be admited. "
   ]
  },
  {
   "cell_type": "code",
   "execution_count": 66,
   "metadata": {
    "scrolled": true
   },
   "outputs": [
    {
     "name": "stdout",
     "output_type": "stream",
     "text": [
      "=== For autograder ===\n",
      "(array([0.99988996]), array([1]))\n",
      "(array([0.99988996]), array([1]))\n",
      "(array([0.99988996]), array([1]))\n",
      "=== For autograder ===\n",
      "Accuracy on the training set: 89.0%\n"
     ]
    }
   ],
   "source": [
    "def predict(theta, X):\n",
    "    \"\"\" Predict whether the label is 0 or 1 using learned logistic regression parameters \"\"\"\n",
    "\n",
    "    ### YOUR CODE HERE:\n",
    "    \n",
    "    X = np.array(X)\n",
    "    m_samples = X.shape[0]\n",
    "    ones = np.ones((m_samples, 1), dtype=np.float)\n",
    "    X = np.concatenate((X, ones), axis = 1)\n",
    "    X_norm = X /np.max(X, axis = 0)\n",
    "    probabilities = sigmoid(X_norm.dot(theta))\n",
    "    predicted_labels = np.array([1 if e >= 0.5 else 0 for e in probabilities])  \n",
    "    \n",
    "    \n",
    "    \n",
    "    \n",
    "    \n",
    "    \n",
    "    \n",
    "    \n",
    "    ### END YOUR CODE\n",
    "    \n",
    "    \n",
    "    ## convert an array of booleans 'predicted_labels' into an array of 0 or 1 intergers\n",
    "    return probabilities, 1*predicted_labels \n",
    "\n",
    "# Check your predication function implementation\n",
    "t_X1 = np.array([[90, 90]])\n",
    "t_X2 = np.array([[50, 60]])\n",
    "t_X3 = np.array([[10, 50]])\n",
    "print (\"=== For autograder ===\")\n",
    "print (predict(learned_theta, t_X1))\n",
    "print (predict(learned_theta, t_X2))\n",
    "print (predict(learned_theta, t_X3))\n",
    "\n",
    "# Computer accuracy on the training dateset \n",
    "t_prob, t_label = predict(learned_theta, train_X)\n",
    "t_precision = t_label[np.where(t_label == train_y)].size / float(train_y.size) * 100\n",
    "print (\"=== For autograder ===\")\n",
    "print('Accuracy on the training set: %s%%' % round(t_precision,2))"
   ]
  },
  {
   "cell_type": "markdown",
   "metadata": {},
   "source": [
    "### 7. Submit Your Homework\n",
    "This is the end. Congratulations! \n",
    "\n",
    "Now, follow the steps below to submit your homework in [Carmen](https://carmen.osu.edu/):\n",
    "\n",
    "1. rename this ipynb file to 'hw2_yourdotid.ipynb' \n",
    "2. click on the menu 'File' --> 'Download as' --> 'Python (.py)'\n",
    "3. pack both the above 'hw2_yourdotid.ipynb' file and the 'hw2_yourdotid.py' file into a zip file 'hw2_yourdotid.zip'\n",
    "4. upload the zip file 'hw2_yourdotid.zip' in Carmen"
   ]
  },
  {
   "cell_type": "code",
   "execution_count": null,
   "metadata": {
    "collapsed": true
   },
   "outputs": [],
   "source": []
  }
 ],
 "metadata": {
  "anaconda-cloud": {},
  "kernelspec": {
   "display_name": "Python 3",
   "language": "python",
   "name": "python3"
  },
  "language_info": {
   "codemirror_mode": {
    "name": "ipython",
    "version": 3
   },
   "file_extension": ".py",
   "mimetype": "text/x-python",
   "name": "python",
   "nbconvert_exporter": "python",
   "pygments_lexer": "ipython3",
   "version": "3.7.1"
  }
 },
 "nbformat": 4,
 "nbformat_minor": 1
}
